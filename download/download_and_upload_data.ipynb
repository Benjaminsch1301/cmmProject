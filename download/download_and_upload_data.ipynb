{
 "cells": [
  {
   "cell_type": "markdown",
   "metadata": {},
   "source": [
    "## Downloading and uploading data\n",
    "\n",
    "#### Extras\n",
    "\n",
    "* databases to download here: http://archive.eso.org/cms/eso-data/ambient-conditions.html\n",
    "\n",
    "* source how to install mongodb: https://www.mongodb.com/docs/manual/tutorial/install-mongodb-on-os-x/\n",
    "\n",
    "        to start mongodb in terminal: $ brew services start mongodb-community@7.0\n",
    "\n",
    "        to stop it: $ brew services stop mongodb-community@7.0"
   ]
  },
  {
   "cell_type": "code",
   "execution_count": null,
   "metadata": {},
   "outputs": [],
   "source": [
    "import requests\n",
    "import pandas as pd\n",
    "from io import StringIO\n",
    "from pymongo import MongoClient\n",
    "\n",
    "from variable_utils import  payload_paranal        "
   ]
  },
  {
   "cell_type": "code",
   "execution_count": null,
   "metadata": {},
   "outputs": [],
   "source": [
    "\n",
    "def request_and_load_to_mongodb(api_url, payload, db_name):\n",
    "    \n",
    "    # request to endpoint\n",
    "    try:\n",
    "        response = requests.get(api_url, params=payload)\n",
    "        print(\"Request status: \", response.status_code)\n",
    "    except requests.exceptions.RequestException as e:\n",
    "        print(f\"Error in API request: {e}\")\n",
    "\n",
    "    content_lines = response.content.split(b\"\\n\\n\")\n",
    "\n",
    "    # checking the content\n",
    "    if content_lines:\n",
    "        first_line = content_lines[0]\n",
    "        print(first_line)\n",
    "    else:\n",
    "        print(\"No data received from the API :(\")\n",
    "\n",
    "    # set as a object file \n",
    "    csv_data = StringIO(first_line.decode('utf-8'))\n",
    "    df = pd.read_csv(csv_data)\n",
    "    print(\"Data in DF\" )\n",
    "\n",
    "    # Connection to local mongodb\n",
    "    try:\n",
    "        client = MongoClient(\"mongodb://localhost:27017/\")\n",
    "        db = client[db_name]\n",
    "        collection = db[db_name]\n",
    "        records = df.to_dict('records')\n",
    "        collection.insert_many(records)\n",
    "        print(\"Data inserted into MongoDB successfully!!\")\n",
    "    except Exception as e:\n",
    "        print(f\"Error in MongoDB operation: {e}\")\n",
    "    finally:\n",
    "        client.close()\n"
   ]
  },
  {
   "cell_type": "code",
   "execution_count": null,
   "metadata": {},
   "outputs": [],
   "source": [
    "from datetime import datetime\n",
    "def get_year_range(start_year = 1998,end_year = 2023):\n",
    "    \"function which gets year range as a list\"\n",
    "    year_list = []\n",
    "    for year in range(start_year, end_year + 1):\n",
    "        start_date = datetime(year, 1, 1)\n",
    "        end_date = datetime(year + 1, 1, 1) if year < end_year else datetime(end_year + 1, 1, 1)\n",
    "        year_range_str = f\"{start_date.strftime('%Y-%m-%d')}..{end_date.strftime('%Y-%m-%d')}\"\n",
    "        year_list.append(year_range_str)\n",
    "    return year_list\n",
    "\n",
    "year_range = get_year_range(start_year = 1998,end_year = 2024)\n",
    "print(year_range[0])\n",
    "print(year_range[-1])\n",
    "\n"
   ]
  },
  {
   "cell_type": "code",
   "execution_count": null,
   "metadata": {},
   "outputs": [],
   "source": [
    "db_name = \"meteo_paranal\" # meteo_paranal_test, meteo_paranal\n",
    "api_url_paranal = \"http://archive.eso.org/wdb/wdb/asm/meteo_paranal/query\"\n",
    "\n",
    "# iterating according to the periods\n",
    "for period in year_range:\n",
    "    payload_paranal['start_date'] = period\n",
    "    print(\"=\"*40)\n",
    "    print(f\"{period}\\n\")\n",
    "    request_and_load_to_mongodb(api_url = api_url_paranal , payload = payload_paranal, db_name = db_name)\n",
    "print(\"Done!\")"
   ]
  },
  {
   "cell_type": "code",
   "execution_count": null,
   "metadata": {},
   "outputs": [],
   "source": [
    "# checking\n",
    "client = MongoClient(\"mongodb://localhost:27017/\")\n",
    "db = client[db_name] # meteo_paranal_test\n",
    "collection = db[db_name]\n",
    "collection.find_one({})\n",
    "\n",
    "\n"
   ]
  }
 ],
 "metadata": {
  "kernelspec": {
   "display_name": "Python 3",
   "language": "python",
   "name": "python3"
  },
  "language_info": {
   "codemirror_mode": {
    "name": "ipython",
    "version": 3
   },
   "file_extension": ".py",
   "mimetype": "text/x-python",
   "name": "python",
   "nbconvert_exporter": "python",
   "pygments_lexer": "ipython3",
   "version": "3.11.7"
  }
 },
 "nbformat": 4,
 "nbformat_minor": 2
}
