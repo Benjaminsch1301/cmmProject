{
 "cells": [
  {
   "cell_type": "code",
   "execution_count": 251,
   "metadata": {},
   "outputs": [],
   "source": [
    "# packages \n",
    "import torch\n",
    "from pymongo import MongoClient\n",
    "from AGG.extended_typing import ContinuousTimeGraphSample"
   ]
  },
  {
   "cell_type": "code",
   "execution_count": 263,
   "metadata": {},
   "outputs": [],
   "source": [
    "## connecting\n",
    "db_name = \"Meteo_test\" # Meteo_test  \n",
    "client = MongoClient(\"mongodb://localhost:27017/\")\n",
    "db = client[db_name] # meteo_paranal_test\n",
    "main_collection = db[db_name]\n",
    "collection = db['train']"
   ]
  },
  {
   "cell_type": "code",
   "execution_count": 264,
   "metadata": {},
   "outputs": [
    {
     "data": {
      "text/plain": [
       "{'_id': ObjectId('65fb39460630f2ec7f2790cb'),\n",
       " 'idx': 0,\n",
       " 'time': '2023-01-01T00:00:58',\n",
       " 'node_features': 11.03,\n",
       " 'type_index': 0,\n",
       " 'spatial_index': 0}"
      ]
     },
     "execution_count": 264,
     "metadata": {},
     "output_type": "execute_result"
    }
   ],
   "source": [
    "main_collection.find_one({})"
   ]
  },
  {
   "cell_type": "code",
   "execution_count": 265,
   "metadata": {},
   "outputs": [
    {
     "data": {
      "text/plain": [
       "{'_id': ObjectId('66076aca58c5b7e6f472bb23'),\n",
       " 'time': tensor([0., 0., 0., 0., 0., 0., 0., 0., 0., 0.]),\n",
       " 'node_features': [-0.61361513304406,\n",
       "  -0.631722544496338,\n",
       "  -0.5516757888136073,\n",
       "  -0.6367982181805324,\n",
       "  0.1208832437108781,\n",
       "  -1.028877768986193,\n",
       "  -1.614515243124854,\n",
       "  -1.307912093457151,\n",
       "  -1.616897061951955,\n",
       "  -0.7040932013792066],\n",
       " 'type_index': [0, 1, 3, 5, 7, 8, 9, 12, 13, 14],\n",
       " 'spatial_index': [0, 0, 0, 0, 0, 0, 0, 0, 0, 0],\n",
       " 'key_padding_mask': [False,\n",
       "  False,\n",
       "  False,\n",
       "  False,\n",
       "  False,\n",
       "  False,\n",
       "  False,\n",
       "  False,\n",
       "  False,\n",
       "  False],\n",
       " 'kaboom': 'kaboom',\n",
       " 'target': {'time': [0.0],\n",
       "  'features': [0.12777952322139885],\n",
       "  'type_index': [2],\n",
       "  'spatial_index': [0],\n",
       "  'dummy': None},\n",
       " 'id': 0,\n",
       " 'attention_mask': tensor([[False, False, False, False, False, False, False, False, False, False],\n",
       "         [False, False, False, False, False, False, False, False, False, False],\n",
       "         [False, False, False, False, False, False, False, False, False, False],\n",
       "         [False, False, False, False, False, False, False, False, False, False],\n",
       "         [False, False, False, False, False, False, False, False, False, False],\n",
       "         [False, False, False, False, False, False, False, False, False, False],\n",
       "         [False, False, False, False, False, False, False, False, False, False],\n",
       "         [False, False, False, False, False, False, False, False, False, False],\n",
       "         [False, False, False, False, False, False, False, False, False, False],\n",
       "         [False, False, False, False, False, False, False, False, False, False]])}"
      ]
     },
     "execution_count": 265,
     "metadata": {},
     "output_type": "execute_result"
    }
   ],
   "source": [
    "sample = collection.find_one({})\n",
    "if \"attention_mask\" not in sample or len(sample[\"attention_mask\"]) == 0:\n",
    "    sample[\"time\"] = torch.tensor(sample[\"time\"], dtype=torch.float)\n",
    "    sample[\"attention_mask\"] = sample[\"time\"].unsqueeze(-1).T < sample[\n",
    "        \"time\"\n",
    "    ].unsqueeze(-1)\n",
    "sample"
   ]
  },
  {
   "cell_type": "code",
   "execution_count": 266,
   "metadata": {},
   "outputs": [
    {
     "data": {
      "text/plain": [
       "ContinuousTimeGraphSample(node_features=tensor([-0.6136, -0.6317, -0.5517, -0.6368,  0.1209, -1.0289, -1.6145, -1.3079,\n",
       "        -1.6169, -0.7041]), key_padding_mask=tensor([False, False, False, False, False, False, False, False, False, False]), edge_index=None, time=tensor([0., 0., 0., 0., 0., 0., 0., 0., 0., 0.]), attention_mask=tensor([[False, False, False, False, False, False, False, False, False, False],\n",
       "        [False, False, False, False, False, False, False, False, False, False],\n",
       "        [False, False, False, False, False, False, False, False, False, False],\n",
       "        [False, False, False, False, False, False, False, False, False, False],\n",
       "        [False, False, False, False, False, False, False, False, False, False],\n",
       "        [False, False, False, False, False, False, False, False, False, False],\n",
       "        [False, False, False, False, False, False, False, False, False, False],\n",
       "        [False, False, False, False, False, False, False, False, False, False],\n",
       "        [False, False, False, False, False, False, False, False, False, False],\n",
       "        [False, False, False, False, False, False, False, False, False, False]]), target=TargetNode(features=tensor([0.1278]), type_index=tensor([2]), time=tensor([0.]), spatial_index=tensor([0]), category_index=None), type_index=tensor([ 0,  1,  3,  5,  7,  8,  9, 12, 13, 14]), spatial_index=tensor([0, 0, 0, 0, 0, 0, 0, 0, 0, 0]), category_index=None)"
      ]
     },
     "execution_count": 266,
     "metadata": {},
     "output_type": "execute_result"
    }
   ],
   "source": [
    "ContinuousTimeGraphSample(**sample) "
   ]
  },
  {
   "cell_type": "code",
   "execution_count": 267,
   "metadata": {},
   "outputs": [
    {
     "data": {
      "text/plain": [
       "{'_id': ObjectId('66076aca58c5b7e6f472bc9f'),\n",
       " 'time': [0.0002314814814814815, 0.0, 0.0, 0.0, 0.0, 0.0, 0.0, 0.0, 0.0, 0.0],\n",
       " 'node_features': [-0.7667202237647128,\n",
       "  -0.6901748582417004,\n",
       "  -0.6820310351895005,\n",
       "  -0.683547100551468,\n",
       "  -0.7077679123909247,\n",
       "  0.1322937731837199,\n",
       "  -1.1880326496331417,\n",
       "  -1.6767853404313433,\n",
       "  -1.1048057073092061,\n",
       "  -1.097903518828439],\n",
       " 'type_index': [37, 0, 1, 3, 4, 7, 8, 9, 10, 11],\n",
       " 'spatial_index': [0, 0, 0, 0, 0, 0, 0, 0, 0, 0],\n",
       " 'key_padding_mask': [False,\n",
       "  False,\n",
       "  False,\n",
       "  False,\n",
       "  False,\n",
       "  False,\n",
       "  False,\n",
       "  False,\n",
       "  False,\n",
       "  False],\n",
       " 'kaboom': 'kaboom',\n",
       " 'target': {'time': [0.0],\n",
       "  'features': [-0.7249868545617204],\n",
       "  'type_index': [5],\n",
       "  'spatial_index': [0],\n",
       "  'dummy': None},\n",
       " 'id': 380}"
      ]
     },
     "execution_count": 267,
     "metadata": {},
     "output_type": "execute_result"
    }
   ],
   "source": [
    "last_document = collection.find_one({}, sort=[('_id', -1)])\n",
    "last_document"
   ]
  },
  {
   "cell_type": "code",
   "execution_count": 268,
   "metadata": {},
   "outputs": [
    {
     "data": {
      "text/plain": [
       "381"
      ]
     },
     "execution_count": 268,
     "metadata": {},
     "output_type": "execute_result"
    }
   ],
   "source": [
    "collection.count_documents({})"
   ]
  },
  {
   "cell_type": "code",
   "execution_count": null,
   "metadata": {},
   "outputs": [],
   "source": []
  }
 ],
 "metadata": {
  "kernelspec": {
   "display_name": "Python 3",
   "language": "python",
   "name": "python3"
  },
  "language_info": {
   "codemirror_mode": {
    "name": "ipython",
    "version": 3
   },
   "file_extension": ".py",
   "mimetype": "text/x-python",
   "name": "python",
   "nbconvert_exporter": "python",
   "pygments_lexer": "ipython3",
   "version": "3.11.7"
  }
 },
 "nbformat": 4,
 "nbformat_minor": 2
}
