{
 "cells": [
  {
   "cell_type": "markdown",
   "metadata": {},
   "source": [
    "## Testing get_graph_sample_idx() function\n",
    "\n",
    "This function returns a dictionary with a list of indexes in order to build ContinuousTimeGraphSample\n",
    "\n",
    "For that, we do the same example showed in the paper ASYNCHRONOUS GRAPH GENERATORS in figure 2."
   ]
  },
  {
   "cell_type": "code",
   "execution_count": 1,
   "metadata": {},
   "outputs": [],
   "source": [
    "import numpy as np\n",
    "from tqdm import trange"
   ]
  },
  {
   "cell_type": "code",
   "execution_count": 2,
   "metadata": {},
   "outputs": [],
   "source": [
    "def get_graph_sample_idx(context_len, stride, idx_list, selection_size) -> dict:\n",
    "    \"\"\"\n",
    "    This function takes all the Ids which has each sample in our mongodb database, and with its parameters creates a list \n",
    "    of indexes of each ContinuousTimeGraphSample\n",
    "    :param context_len: input block length\n",
    "    :param stride: number of steps the block is moved before it is considered the next input to the AGG \n",
    "    :param idx_list: all the indexes of samples located in mongodb database\n",
    "    :param selection_size: it is a % in how many samples we want to remove\n",
    "    :return: dict\n",
    "    \"\"\"\n",
    "\n",
    "    # targets = set(random.sample(idx_list, int(selection_size * len(idx_list))))  # we select randomly the targets from idx_list\n",
    "    targets = { 2,5,6,9,14,12}\n",
    "\n",
    "    print('Total targets: ',len(targets))\n",
    "    train_nodes = [k for k in idx_list if k not in targets] # O(1) targets is save it as by hash table\n",
    "    N = len(train_nodes)\n",
    "    print('Total train nodes: ', N)\n",
    "    windows = []\n",
    "    idx_indices = {idx: i for i, idx in enumerate(idx_list)} # we create a map between indexes and lists of each samples, it's take O(1) doing this \n",
    "    k=0\n",
    "    graph_samples = dict()\n",
    "    print('Creating indexes of nodes...')\n",
    "    for i in trange(0, N, stride):\n",
    "        max_idx = min(i + context_len, N) \n",
    "        window = train_nodes[i:max_idx] \n",
    "        if len(window)==context_len: # we ask to the window to have exact lenght of the block\n",
    "            windows.append(window) \n",
    "            first_element_window = idx_indices[window[0]]\n",
    "            last_element_window = idx_indices[window[-1]]\n",
    "            for target in targets :  # we iterate over each target in order to see if it is in the range of the context block\n",
    "                if first_element_window <= idx_indices[target] <= last_element_window :\n",
    "                    graph_samples[k] = [window,target] \n",
    "                    k+=1\n",
    "    return graph_samples # it returns a dict with a list of indexes"
   ]
  },
  {
   "cell_type": "code",
   "execution_count": 3,
   "metadata": {},
   "outputs": [
    {
     "name": "stdout",
     "output_type": "stream",
     "text": [
      "Total targets:  6\n",
      "Total train nodes:  11\n",
      "Creating indexes of nodes...\n"
     ]
    },
    {
     "name": "stderr",
     "output_type": "stream",
     "text": [
      "100%|██████████| 6/6 [00:00<00:00, 51675.20it/s]"
     ]
    },
    {
     "name": "stderr",
     "output_type": "stream",
     "text": [
      "\n"
     ]
    },
    {
     "data": {
      "text/plain": [
       "{0: [[0, 1, 3], 2],\n",
       " 1: [[3, 4, 7], 5],\n",
       " 2: [[3, 4, 7], 6],\n",
       " 3: [[7, 8, 10], 9],\n",
       " 4: [[10, 11, 13], 12],\n",
       " 5: [[13, 15, 16], 14]}"
      ]
     },
     "execution_count": 3,
     "metadata": {},
     "output_type": "execute_result"
    }
   ],
   "source": [
    "a = np.arange(0,17).tolist()\n",
    "targets = { 2,5,6,9,14,12}\n",
    "context_len = 3\n",
    "stride = 2\n",
    "get_graph_sample_idx(context_len = context_len, stride = stride, idx_list = a, selection_size = None)"
   ]
  },
  {
   "cell_type": "markdown",
   "metadata": {},
   "source": [
    "The above output is the same to figure 2 in paper ASYNCHRONOUS GRAPH GENERATORS"
   ]
  }
 ],
 "metadata": {
  "kernelspec": {
   "display_name": "Python 3",
   "language": "python",
   "name": "python3"
  },
  "language_info": {
   "codemirror_mode": {
    "name": "ipython",
    "version": 3
   },
   "file_extension": ".py",
   "mimetype": "text/x-python",
   "name": "python",
   "nbconvert_exporter": "python",
   "pygments_lexer": "ipython3",
   "version": "3.11.7"
  }
 },
 "nbformat": 4,
 "nbformat_minor": 2
}
